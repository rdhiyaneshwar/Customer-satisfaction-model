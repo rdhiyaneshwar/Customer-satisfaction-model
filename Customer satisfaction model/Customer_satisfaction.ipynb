{
  "cells": [
    {
      "cell_type": "markdown",
      "metadata": {
        "id": "view-in-github",
        "colab_type": "text"
      },
      "source": [
        "<a href=\"https://colab.research.google.com/github/Dharshan15/Customer-satisfaction-model/blob/main/Customer_satisfaction.ipynb\" target=\"_parent\"><img src=\"https://colab.research.google.com/assets/colab-badge.svg\" alt=\"Open In Colab\"/></a>"
      ]
    },
    {
      "cell_type": "code",
      "execution_count": null,
      "metadata": {
        "id": "xd_g2uNpBUmM"
      },
      "outputs": [],
      "source": [
        "import pandas as pd\n",
        "from sklearn.neighbors import KNeighborsClassifier\n",
        "from google.colab import drive"
      ]
    },
    {
      "cell_type": "code",
      "execution_count": null,
      "metadata": {
        "id": "VmmVUc5nm4vV",
        "colab": {
          "base_uri": "https://localhost:8080/"
        },
        "outputId": "cc334460-a411-4063-871e-4fcb690e45af"
      },
      "outputs": [
        {
          "output_type": "stream",
          "name": "stdout",
          "text": [
            "Drive already mounted at /content/drive; to attempt to forcibly remount, call drive.mount(\"/content/drive\", force_remount=True).\n"
          ]
        }
      ],
      "source": [
        "drive.mount('/content/drive')\n",
        "df = pd.read_csv(\"drive/My Drive/dataset/train_data.csv\")\n",
        "df2 = pd.read_csv(\"drive/My Drive/dataset/test_data.csv\")\n",
        "\n"
      ]
    },
    {
      "cell_type": "code",
      "source": [
        "df[['order_time','allot_time','pickup_time','delivered_time']] =df[['order_time','allot_time','pickup_time','delivered_time']].apply(pd.to_datetime)\n",
        "df2[['order_time','allot_time','pickup_time','delivered_time']] =df2[['order_time','allot_time','pickup_time','delivered_time']].apply(pd.to_datetime)"
      ],
      "metadata": {
        "id": "BmMfqqxMI7S2"
      },
      "execution_count": null,
      "outputs": []
    },
    {
      "cell_type": "code",
      "source": [
        "df['ot_day'] = df['order_time'].dt.day\n",
        "df['ot_month'] = df['order_time'].dt.month\n",
        "df2['ot_day'] = df2['order_time'].dt.day\n",
        "df2['ot_month'] = df2['order_time'].dt.month\n",
        "\n",
        "df['at_day'] = df['allot_time'].dt.day\n",
        "df['at_month'] = df['allot_time'].dt.month\n",
        "df2['at_day'] = df2['allot_time'].dt.day\n",
        "df2['at_month'] = df2['allot_time'].dt.month\n",
        "\n",
        "df['pt_day'] = df['pickup_time'].dt.day\n",
        "df['pt_month'] = df['pickup_time'].dt.month\n",
        "df2['pt_day'] = df2['pickup_time'].dt.day\n",
        "df2['pt_month'] = df2['pickup_time'].dt.month\n",
        "\n",
        "df['dt_day'] = df['delivered_time'].dt.day\n",
        "df['dt_month'] = df['delivered_time'].dt.month\n",
        "df2['dt_day'] = df2['delivered_time'].dt.day\n",
        "df2['dt_month'] = df2['delivered_time'].dt.month"
      ],
      "metadata": {
        "id": "95yjVKlA7iuW"
      },
      "execution_count": null,
      "outputs": []
    },
    {
      "cell_type": "code",
      "source": [
        "df['ot_hour'] = df['order_time'].dt.hour\n",
        "df['ot_min'] = df['order_time'].dt.minute\n",
        "df2['ot_hour'] = df2['order_time'].dt.hour\n",
        "df2['ot_min'] = df2['order_time'].dt.minute\n",
        "\n",
        "df['at_hour'] = df['allot_time'].dt.hour\n",
        "df['at_min'] = df['allot_time'].dt.minute\n",
        "df2['at_hour'] = df2['allot_time'].dt.hour\n",
        "df2['at_min'] = df2['allot_time'].dt.minute\n",
        "\n",
        "df['pt_hour'] = df['pickup_time'].dt.hour\n",
        "df['pt_min'] = df['pickup_time'].dt.minute\n",
        "df2['pt_hour'] = df2['pickup_time'].dt.hour\n",
        "df2['pt_min'] = df2['pickup_time'].dt.minute\n",
        "\n",
        "df['dt_hour'] = df['delivered_time'].dt.hour\n",
        "df['dt_min'] = df['delivered_time'].dt.minute\n",
        "df2['dt_hour'] = df2['delivered_time'].dt.hour\n",
        "df2['dt_min'] = df2['delivered_time'].dt.minute"
      ],
      "metadata": {
        "id": "VV0NRhWOS2TJ"
      },
      "execution_count": null,
      "outputs": []
    },
    {
      "cell_type": "code",
      "source": [
        "df['undelivered_orders'] = df['undelivered_orders'].fillna(df['undelivered_orders'].mean())\n",
        "df2['undelivered_orders'] = df2['undelivered_orders'].fillna(df2['undelivered_orders'].mean())\n",
        "\n",
        "df['dt_hour'] = df['dt_hour'].fillna(df['dt_hour'].mean())\n",
        "df2['dt_hour'] = df2['dt_hour'].fillna(df2['dt_hour'].mean())\n",
        "\n",
        "df['dt_min'] = df['dt_min'].fillna(df['dt_min'].mean())\n",
        "df2['dt_min'] = df2['dt_min'].fillna(df2['dt_min'].mean())\n",
        "\n"
      ],
      "metadata": {
        "id": "6gfho-W-2veX"
      },
      "execution_count": null,
      "outputs": []
    },
    {
      "cell_type": "code",
      "source": [
        "df = df.drop(['order_time','allot_time','pickup_time','delivered_time'],axis = 1)\n",
        "df2 = df2.drop(['order_time','allot_time','pickup_time','delivered_time'],axis = 1)\n",
        "\n",
        "df.fillna(-999,inplace=True)\n",
        "df2.fillna(-999,inplace=True)"
      ],
      "metadata": {
        "id": "XR307QxI7wwl"
      },
      "execution_count": null,
      "outputs": []
    },
    {
      "cell_type": "code",
      "execution_count": null,
      "metadata": {
        "id": "nBVMxz3-LDZh"
      },
      "outputs": [],
      "source": [
        "def Gender(x):\n",
        "  if x=='M':\n",
        "    return 1\n",
        "  else:\n",
        "    return 0\n",
        "\n",
        "def Membership(x):\n",
        "  if x =='Prime':\n",
        "    return 1\n",
        "  else :\n",
        "    return 0\n",
        "\n",
        "def Importance(x):\n",
        "  if x=='high':\n",
        "    return 2\n",
        "  elif x=='low':\n",
        "    return 1\n",
        "  else:\n",
        "    return 0"
      ]
    },
    {
      "cell_type": "code",
      "execution_count": null,
      "metadata": {
        "id": "tOSXyCb03Qvb"
      },
      "outputs": [],
      "source": [
        "df['gender']= df['gender'].apply(Gender)\n",
        "df[\"membership\"] = df['membership'].apply(Membership)\n",
        "df[\"product_importan\"] = df['product_importan'].apply(Importance)\n",
        "\n",
        "df2['gender']= df2['gender'].apply(Gender)\n",
        "df2[\"membership\"] = df2['membership'].apply(Membership)\n",
        "df2[\"product_importan\"] = df2['product_importan'].apply(Importance)\n",
        "\n",
        "X_train = df.drop(['dissatisfaction'],axis=1)\n",
        "y_train = df[\"dissatisfaction\"]\n",
        "\n",
        "X_test = df2.drop(['dissatisfaction'],axis=1)\n",
        "y_test = df2[\"dissatisfaction\"]\n"
      ]
    },
    {
      "cell_type": "code",
      "source": [
        "from sklearn.preprocessing import StandardScaler\n",
        "st_x= StandardScaler()\n",
        "\n",
        "X_train= st_x.fit_transform(X_train)\n",
        "X_test= st_x.transform(X_test)\n"
      ],
      "metadata": {
        "id": "D2HjUNWhQiBx"
      },
      "execution_count": null,
      "outputs": []
    },
    {
      "cell_type": "markdown",
      "metadata": {
        "id": "z_9_Y9IgRCpy"
      },
      "source": [
        "KNN"
      ]
    },
    {
      "cell_type": "code",
      "execution_count": null,
      "metadata": {
        "id": "uI6Zh4_2Q80C",
        "colab": {
          "base_uri": "https://localhost:8080/"
        },
        "outputId": "71acac57-73d4-43cd-d1a1-082f22cfa2fd"
      },
      "outputs": [
        {
          "output_type": "stream",
          "name": "stdout",
          "text": [
            "100.0\n"
          ]
        }
      ],
      "source": [
        "knn = KNeighborsClassifier(n_neighbors=10)\n",
        "\n",
        "knn.fit(X_train,y_train)\n",
        "\n",
        "#print(knn.score(X_test,y_test))\n",
        "\n",
        "y_pred = knn.predict(X_test)\n",
        "\n",
        "from sklearn.metrics import accuracy_score\n",
        "print(accuracy_score(y_test,y_pred)*100)"
      ]
    },
    {
      "cell_type": "code",
      "source": [
        "df2['dissatisfaction'] = y_pred\n",
        "fle = df2[['order_id','dissatisfaction']]\n",
        "fle.to_csv(\"submission12.csv\",index=False)"
      ],
      "metadata": {
        "id": "Ik1T_nYx2ZSM"
      },
      "execution_count": null,
      "outputs": []
    }
  ],
  "metadata": {
    "colab": {
      "provenance": [],
      "include_colab_link": true
    },
    "kernelspec": {
      "display_name": "Python 3",
      "name": "python3"
    },
    "language_info": {
      "name": "python"
    }
  },
  "nbformat": 4,
  "nbformat_minor": 0
}